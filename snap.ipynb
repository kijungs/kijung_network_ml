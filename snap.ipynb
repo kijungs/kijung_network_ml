{
 "cells": [
  {
   "cell_type": "markdown",
   "metadata": {},
   "source": [
    "# What is Snap.py?\n",
    "\n",
    "Snap.py is a Python interface for SNAP. SNAP is a general purpose, high performance system for analysis and manipulation of large networks. SNAP is written in C++ and optimized for maximum performance and compact graph representation. It easily scales to massive networks with hundreds of millions of nodes, and billions of edges.\n",
    "\n",
    "Snap.py provides performance benefits of SNAP, combined with flexibility of Python.Since Snap.py is mostly just a direct interface to SNAP C++ implementation, most of the SNAP functionality is available via Snap.py in Python. There is a direct correspondence between the SNAP functions and Snap.py functions. SNAP documentation is available here: http://snap.stanford.edu/snap/doc/snapdev-ref/.\n",
    "\n",
    "To use Snap.py in Python, import the snap module:"
   ]
  },
  {
   "cell_type": "code",
   "execution_count": 1,
   "metadata": {},
   "outputs": [],
   "source": [
    " import snap"
   ]
  },
  {
   "cell_type": "markdown",
   "metadata": {},
   "source": [
    "# Graph Types\n",
    "\n",
    "Snap.py supports graphs and networks. Graphs describe topologies, where nodes have unique integer ids and directed/undirected/multiple edges connect the nodes of the graph.\n",
    "\n",
    "Graph classes in SNAP:\n",
    "\n",
    "* TUNGraph: undirected graphs (single edge between an unordered pair of nodes)\n",
    "* TNGraph: directed graphs (single directed edge between an ordered pair of nodes)\n"
   ]
  },
  {
   "cell_type": "markdown",
   "metadata": {},
   "source": [
    "# Graph Creation\n",
    "\n",
    "Graphs are created with the New() method. Examples of how to create graphs and networks:"
   ]
  },
  {
   "cell_type": "code",
   "execution_count": 2,
   "metadata": {},
   "outputs": [],
   "source": [
    "G1 = snap.TUNGraph.New()\n",
    "G2 = snap.TNGraph.New()"
   ]
  },
  {
   "cell_type": "markdown",
   "metadata": {},
   "source": [
    "By definition, a **Graph** is a collection of nodes (vertices) along with identified pairs of nodes (called edges, links, etc). In NetworkX, nodes can be any hashable object e.g., a text string, an image, an XML object, another Graph, a customized node object, etc."
   ]
  },
  {
   "cell_type": "markdown",
   "metadata": {},
   "source": [
    "# Adding Nodes and Edges\n",
    "Nodes are added with the AddNode() method."
   ]
  },
  {
   "cell_type": "code",
   "execution_count": 4,
   "metadata": {},
   "outputs": [
    {
     "data": {
      "text/plain": [
       "32"
      ]
     },
     "execution_count": 4,
     "metadata": {},
     "output_type": "execute_result"
    }
   ],
   "source": [
    "G1.AddNode(1)\n",
    "G1.AddNode(5)\n",
    "G1.AddNode(32)"
   ]
  },
  {
   "cell_type": "markdown",
   "metadata": {},
   "source": [
    "Nodes have unique integer node ids. There is no restriction for node ids to be contiguous integers starting at 0.\n",
    "\n",
    "Edges are added with the AddEdge() method."
   ]
  },
  {
   "cell_type": "code",
   "execution_count": 5,
   "metadata": {},
   "outputs": [
    {
     "data": {
      "text/plain": [
       "-1"
      ]
     },
     "execution_count": 5,
     "metadata": {},
     "output_type": "execute_result"
    }
   ],
   "source": [
    "G1.AddEdge(1,5)\n",
    "G1.AddEdge(5,1)\n",
    "G1.AddEdge(5,32)"
   ]
  },
  {
   "cell_type": "markdown",
   "metadata": {},
   "source": [
    "In TUNGraph and TNGraph edges have no explicit ids – edges are identified by a pair of node ids."
   ]
  },
  {
   "cell_type": "markdown",
   "metadata": {},
   "source": [
    "# Traversing Nodes and Edges\n",
    "\n",
    "Nodes and edges are traversed with iterators. Some examples of iterator usage in Snap.py are shown below."
   ]
  },
  {
   "cell_type": "code",
   "execution_count": 49,
   "metadata": {},
   "outputs": [
    {
     "name": "stdout",
     "output_type": "stream",
     "text": [
      "node: 0, out-degree 4, in-degree 2\n",
      "node: 1, out-degree 1, in-degree 1\n",
      "node: 2, out-degree 1, in-degree 2\n",
      "node: 3, out-degree 3, in-degree 3\n",
      "node: 4, out-degree 1, in-degree 2\n",
      "edge (0, 1)\n",
      "edge (0, 2)\n",
      "edge (0, 3)\n",
      "edge (0, 4)\n",
      "edge (1, 0)\n",
      "edge (2, 3)\n",
      "edge (3, 0)\n",
      "edge (3, 2)\n",
      "edge (3, 4)\n",
      "edge (4, 3)\n",
      "edge (0, 1)\n",
      "edge (0, 2)\n",
      "edge (0, 3)\n",
      "edge (0, 4)\n",
      "edge (1, 0)\n",
      "edge (2, 3)\n",
      "edge (3, 0)\n",
      "edge (3, 2)\n",
      "edge (3, 4)\n",
      "edge (4, 3)\n"
     ]
    }
   ],
   "source": [
    "#Create a directed random graph on 5 nodes and 10 edges:\n",
    "\n",
    "G2 = snap.GenRndGnm(snap.PNGraph, 5, 10) \n",
    "\n",
    "#Traverse all the nodes using a node iterator:\n",
    "for NI in G2.Nodes():\n",
    "    print \"node: %d, out-degree %d, in-degree %d\" % (\n",
    "        NI.GetId(), NI.GetOutDeg(), NI.GetInDeg())\n",
    "\n",
    "#Traverse all the edges using an edge iterator:\n",
    "for EI in G2.Edges():\n",
    "    print \"edge (%d, %d)\" % (EI.GetSrcNId(), EI.GetDstNId())\n",
    "\n",
    "#Traverse the edges by traversing nodes and getting all their neighbors:\n",
    "\n",
    "for NI in G2.Nodes():\n",
    "    for Id in NI.GetOutEdges():\n",
    "        print \"edge (%d, %d)\" % (NI.GetId(), Id)"
   ]
  },
  {
   "cell_type": "markdown",
   "metadata": {},
   "source": [
    "# Loading Graphs\n",
    "\n",
    "One can load a graph stored in a file using common graph formats, such as edge lists, adjacency lists,"
   ]
  },
  {
   "cell_type": "code",
   "execution_count": 14,
   "metadata": {},
   "outputs": [
    {
     "data": {
      "text/html": [
       "<div>\n",
       "<style scoped>\n",
       "    .dataframe tbody tr th:only-of-type {\n",
       "        vertical-align: middle;\n",
       "    }\n",
       "\n",
       "    .dataframe tbody tr th {\n",
       "        vertical-align: top;\n",
       "    }\n",
       "\n",
       "    .dataframe thead th {\n",
       "        text-align: right;\n",
       "    }\n",
       "</style>\n",
       "<table border=\"1\" class=\"dataframe\">\n",
       "  <thead>\n",
       "    <tr style=\"text-align: right;\">\n",
       "      <th></th>\n",
       "      <th>1</th>\n",
       "      <th>2</th>\n",
       "    </tr>\n",
       "  </thead>\n",
       "  <tbody>\n",
       "    <tr>\n",
       "      <th>0</th>\n",
       "      <td>2</td>\n",
       "      <td>3</td>\n",
       "    </tr>\n",
       "    <tr>\n",
       "      <th>1</th>\n",
       "      <td>2</td>\n",
       "      <td>4</td>\n",
       "    </tr>\n",
       "    <tr>\n",
       "      <th>2</th>\n",
       "      <td>2</td>\n",
       "      <td>5</td>\n",
       "    </tr>\n",
       "    <tr>\n",
       "      <th>3</th>\n",
       "      <td>2</td>\n",
       "      <td>6</td>\n",
       "    </tr>\n",
       "    <tr>\n",
       "      <th>4</th>\n",
       "      <td>2</td>\n",
       "      <td>7</td>\n",
       "    </tr>\n",
       "  </tbody>\n",
       "</table>\n",
       "</div>"
      ],
      "text/plain": [
       "   1  2\n",
       "0  2  3\n",
       "1  2  4\n",
       "2  2  5\n",
       "3  2  6\n",
       "4  2  7"
      ]
     },
     "execution_count": 14,
     "metadata": {},
     "output_type": "execute_result"
    }
   ],
   "source": [
    "import pandas as pd\n",
    "df = pd.read_csv(\"lesmis.csv\")\n",
    "df.head()"
   ]
  },
  {
   "cell_type": "code",
   "execution_count": 10,
   "metadata": {},
   "outputs": [],
   "source": [
    "G = snap.LoadEdgeList(snap.PUNGraph, \"lesmis.csv\", 0, 1, \",\")"
   ]
  },
  {
   "cell_type": "markdown",
   "metadata": {},
   "source": [
    "# Generating graphs\n",
    "One can generate grapphs uing stochastic graph generators"
   ]
  },
  {
   "cell_type": "code",
   "execution_count": 11,
   "metadata": {},
   "outputs": [],
   "source": [
    "#Create a directed random graph on 5 nodes and 10 edges:\n",
    "G = snap.GenRndGnm(snap.PUNGraph, 100, 1000)"
   ]
  },
  {
   "cell_type": "markdown",
   "metadata": {},
   "source": [
    "# Saving Graphs\n",
    "One can save graphs in a file using common graph formats, such as edge lists, adjacency lists, "
   ]
  },
  {
   "cell_type": "code",
   "execution_count": 20,
   "metadata": {},
   "outputs": [],
   "source": [
    "snap.SaveEdgeList(G2, \"random.tsv\")"
   ]
  },
  {
   "cell_type": "markdown",
   "metadata": {},
   "source": [
    "# Hash Table Types\n",
    "Hash tables contain values of the same type. Each value has a user provided key associated with it. All the keys are of the same type.\n",
    "\n",
    "Table values can be accessed or changed either their keys. New values can be added as (key, value) pairs.\n",
    "\n",
    "Hash table types in Snap.py and SNAP use a naming convention of being named as <key_type_name><value_type_name>, followed by H. For example, a hash table with integer key and string values is named TIntStrH. If <key_type_name> and <value_type_name> have the same type, only one type name might be used, such as TIntH.\n",
    "\n",
    "Below are the most commonly used hash table operations:"
   ]
  },
  {
   "cell_type": "code",
   "execution_count": null,
   "metadata": {},
   "outputs": [],
   "source": [
    "# create an empty hash table with integer keys and string values\n",
    "\n",
    "h = snap.TIntStrH()\n",
    "\n",
    "#add a value to the table. 5 values are added below:\n",
    "h[5] = \"five\"\n",
    "h[3] = \"three\"\n",
    "h[9] = \"nine\"\n",
    "h[6] = \"six\"\n",
    "h[1] = \"one\"\n",
    "\n",
    "#get the number of values in the table:\n",
    "print h.Len()\n",
    "\n",
    "#get a value for a specific key\n",
    "print \"h[3] =\", h[3]\n",
    "\n",
    "#change a value at a specific key\n",
    "h[3] = \"four\"\n",
    "print \"h[3] =\", h[3]"
   ]
  },
  {
   "cell_type": "markdown",
   "metadata": {},
   "source": [
    "# 1 Ranking: PageRank\n",
    "-------------------------------------------\n",
    "    GetPageRank(Graph, PRankH, C=0.85, Eps=1e-4, MaxIter=100)\\\n",
    "\n",
    "-------------------------------------------    \n",
    "* Computes the PageRank score of every node in Graph. The scores are stored in PRankH.\n",
    "\n",
    "* ### Parameters:\n",
    "\n",
    " 1. Graph: graph (input)\n",
    "A Snap.py graph or a network.\n",
    "\n",
    " 2. PRankH: TIntFltH, a hash of int keys and float values (output). PageRank scores. Keys are node IDs, values are computed PageRank scores.\n",
    "\n",
    " 3. C: float (input). Damping factor.\n",
    "\n",
    " 4. Eps: float (input). Convergence difference.\n",
    "\n",
    " 5. MaxIter: int (input). Maximum number of iterations.\n",
    "\n",
    "* ### Return value: None\n",
    "\n",
    "The following example shows how to calculate PageRank scores for nodes in TUNGraph:"
   ]
  },
  {
   "cell_type": "code",
   "execution_count": 26,
   "metadata": {},
   "outputs": [
    {
     "name": "stdout",
     "output_type": "stream",
     "text": [
      "Node, PRankH\n",
      "1 , 0.00558789976989\n",
      "2 , 0.0427808245273\n",
      "3 , 0.010281579539\n",
      "4 , 0.010281579539\n",
      "5 , 0.00558789976989\n"
     ]
    }
   ],
   "source": [
    "G = snap.LoadEdgeList(snap.PUNGraph, \"lesmis.csv\", 0, 1, \",\")\n",
    "PRankH = snap.TIntFltH()\n",
    "snap.GetPageRank(G, PRankH)\n",
    "\n",
    "print \"Node, PRankH\"\n",
    "print 1, \",\",  PRankH[1]\n",
    "print 2, \",\", PRankH[2]\n",
    "print 3, \",\", PRankH[3]\n",
    "print 4, \",\", PRankH[4]\n",
    "print 5, \",\", PRankH[5]"
   ]
  },
  {
   "cell_type": "markdown",
   "metadata": {},
   "source": [
    "# 2. Community Detection\n",
    "-------------------------------------------\n",
    "    CommunityGirvanNewman(Graph, CmtyV)\n",
    "    \n",
    "-------------------------------------------    \n",
    "* Uses the Girvan-Newman community detection algorithm based on betweenness centrality on Graph. Fills CmtyV with all the communities detected and returns the modularity of the network.\n",
    "\n",
    "* ### Parameters:\n",
    "\n",
    " 1. Graph: undirected graph (input). A Snap.py undirected graph.\n",
    " 2. CmtyV: TCnComV, a vector of connected components (output). A vector of all the communities that are detected by the Girvan-Newman method. Each community is represented as a vector of node ids.\n",
    "\n",
    "* ### Return value: float. The modularity of the network.\n",
    "\n",
    "The following example shows how to detect communities using Girvan-Newman algorithm in TUNGraph:"
   ]
  },
  {
   "cell_type": "code",
   "execution_count": 35,
   "metadata": {},
   "outputs": [
    {
     "name": "stdout",
     "output_type": "stream",
     "text": [
      "Community 1:  11 12 14 15 16 30 32 33 34 35 36 37 38 39 \n",
      "Community 2:  49 56 58 59 60 61 62 63 64 65 66 67 77 \n",
      "Community 3:  25 26 28 40 42 43 69 70 71 72 76 \n",
      "Community 4:  27 44 50 51 52 53 54 55 57 73 \n",
      "Community 5:  13 17 18 19 20 21 22 23 24 31 \n",
      "Community 6:  1 2 3 4 5 6 7 8 9 10 \n",
      "Community 7:  29 45 46 \n",
      "Community 8:  74 75 \n",
      "Community 9:  47 48 \n",
      "Community 10:  68 \n",
      "Community 11:  41 \n",
      "The modularity of the network is 0.538068\n"
     ]
    }
   ],
   "source": [
    "G = snap.LoadEdgeList(snap.PUNGraph, \"lesmis.csv\", 0, 1, \",\")\n",
    "CmtyV = snap.TCnComV()\n",
    "modularity = snap.CommunityGirvanNewman(G, CmtyV)\n",
    "i = 1;\n",
    "for Cmty in CmtyV:\n",
    "    print \"Community \" + str(i) +\": \",\n",
    "    for NI in Cmty:\n",
    "        print NI,\n",
    "    i+=1;\n",
    "    print ''\n",
    "print \"The modularity of the network is %f\" % modularity"
   ]
  },
  {
   "cell_type": "markdown",
   "metadata": {},
   "source": [
    "# 3 Dimensionality Reduction (Node Embedding): EigenDecomposition\n",
    "-----------------------------------\n",
    "    GetEigVec(Graph, EigVecs, EigVal, EigVecV)\n",
    "\n",
    "-----------------------------------\n",
    "\n",
    "* Computes top EigVecs eigenvalues and eigenvectors of the adjacency matrix representing a given undirected Graph.\n",
    "\n",
    "* ### Parameters:\n",
    "\n",
    " 1. Graph: graph (input). A Snap.py undirected Graph.\n",
    "\n",
    " 2. EigVecs: int (input). Rank of eigenvalues and eigenvectors that should be outputted.\n",
    "\n",
    " 3. EigValV: TFltV, a vector of floats (output). Eigenvalues.\n",
    "\n",
    " 4. EigVecV: TFltVFltV> (output). Eigenvectors.\n",
    "\n",
    "* ### Return value: None\n",
    "\n",
    "The following example shows how to calculate the top 2 eigenvalues and eigenvectors for TUNGraph:"
   ]
  },
  {
   "cell_type": "code",
   "execution_count": 48,
   "metadata": {
    "scrolled": false
   },
   "outputs": [
    {
     "name": "stdout",
     "output_type": "stream",
     "text": [
      "Node Feature-1 Feature-2\n",
      "1 -0.0503371934489 -0.0160401894852\n",
      "2 -0.0463882395065 -0.0140224941048\n",
      "3 -0.0463882395065 -0.0140224941048\n",
      "4 -0.00561841503775 -0.00229914731314\n",
      "5 -0.00561841503775 -0.00229914731314\n"
     ]
    },
    {
     "data": {
      "text/plain": [
       "<matplotlib.collections.PathCollection at 0xb0ddb38>"
      ]
     },
     "execution_count": 48,
     "metadata": {},
     "output_type": "execute_result"
    },
    {
     "data": {
      "image/png": "[encoded data removed]",
      "text/plain": [
       "<Figure size 432x288 with 1 Axes>"
      ]
     },
     "metadata": {
      "needs_background": "light"
     },
     "output_type": "display_data"
    }
   ],
   "source": [
    "import matplotlib.pyplot as plt\n",
    "\n",
    "Graph = snap.LoadEdgeList(snap.PUNGraph, \"lesmis.csv\", 0, 1, \",\")\n",
    "EigValV = snap.TFltV()\n",
    "EigVecV = snap.TFltVFltV()\n",
    "snap.GetEigVec(Graph, 10, EigValV, EigVecV)\n",
    "\n",
    "print \"Node\", \"Feature-1\", \"Feature-2\" \n",
    "print 1, EigVecV[1][1], EigVecV[2][1]\n",
    "print 2, EigVecV[1][2], EigVecV[2][2]\n",
    "print 3, EigVecV[1][3], EigVecV[2][3]\n",
    "print 4, EigVecV[1][4], EigVecV[2][4]\n",
    "print 5, EigVecV[1][5], EigVecV[2][5]\n",
    "\n",
    "plt.plot()\n",
    "plt.scatter(EigVecV[1], EigVecV[2])"
   ]
  },
  {
   "cell_type": "markdown",
   "metadata": {},
   "source": [
    "We can run any off-the-shelf classification and clustering methods using the obtained node features."
   ]
  },
  {
   "cell_type": "markdown",
   "metadata": {},
   "source": [
    "# References\n",
    " 1. Snap.py Tutorial (https://snap.stanford.edu/snappy/doc/tutorial/index-tut.html)"
   ]
  }
 ],
 "metadata": {
  "kernelspec": {
   "display_name": "Python 2",
   "language": "python",
   "name": "python2"
  },
  "language_info": {
   "codemirror_mode": {
    "name": "ipython",
    "version": 2
   },
   "file_extension": ".py",
   "mimetype": "text/x-python",
   "name": "python",
   "nbconvert_exporter": "python",
   "pygments_lexer": "ipython2",
   "version": "2.7.16"
  }
 },
 "nbformat": 4,
 "nbformat_minor": 2
}
